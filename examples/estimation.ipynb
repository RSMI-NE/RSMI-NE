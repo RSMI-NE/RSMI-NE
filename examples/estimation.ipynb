{
 "cells": [
  {
   "cell_type": "code",
   "execution_count": 1,
   "metadata": {},
   "outputs": [],
   "source": [
    "import os\n",
    "import sys\n",
    "\n",
    "import tensorflow as tf\n",
    "import numpy as np\n",
    "import pandas as pd\n",
    "import matplotlib.pyplot as plt"
   ]
  },
  {
   "cell_type": "code",
   "execution_count": 2,
   "metadata": {},
   "outputs": [],
   "source": [
    "sys.path.append(os.pardir)\n",
    "from rsmine.mi_estimator.MI_estimators import VBMI"
   ]
  },
  {
   "cell_type": "code",
   "execution_count": 3,
   "metadata": {},
   "outputs": [],
   "source": [
    "def sample_correlated_gaussian(rho=0.5, dim=20, n=1, batch_size=128):\n",
    "  \"\"\"Generate samples from a correlated Gaussian distribution.\"\"\"\n",
    "  x, eps = tf.split(tf.random.normal((batch_size, 2 * dim, n)), 2, axis=1)\n",
    "  y = rho * x + tf.sqrt(tf.cast(1. - rho**2, tf.float32)) * eps\n",
    "  return x, y\n",
    "\n",
    "\n",
    "def rho_to_mi(dim, rho):\n",
    "  return -0.5 * np.log(1-rho**2) * dim\n",
    "\n",
    "\n",
    "def mi_to_rho(dim, mi):\n",
    "  return np.sqrt(1-np.exp(-2.0 / dim * mi))\n"
   ]
  },
  {
   "cell_type": "code",
   "execution_count": 4,
   "metadata": {},
   "outputs": [
    {
     "name": "stdout",
     "output_type": "stream",
     "text": [
      "Metal device set to: Apple M1 Pro\n",
      "\n",
      "systemMemory: 32.00 GB\n",
      "maxCacheSize: 10.67 GB\n",
      "\n"
     ]
    },
    {
     "name": "stderr",
     "output_type": "stream",
     "text": [
      "2022-02-15 13:51:18.855364: I tensorflow/core/common_runtime/pluggable_device/pluggable_device_factory.cc:305] Could not identify NUMA node of platform GPU ID 0, defaulting to 0. Your kernel may not have been built with NUMA support.\n",
      "2022-02-15 13:51:18.855529: I tensorflow/core/common_runtime/pluggable_device/pluggable_device_factory.cc:271] Created TensorFlow device (/job:localhost/replica:0/task:0/device:GPU:0 with 0 MB memory) -> physical PluggableDevice (device: 0, name: METAL, pci bus id: <undefined>)\n"
     ]
    },
    {
     "data": {
      "image/png": "[encoded data removed]",
      "text/plain": [
       "<Figure size 432x216 with 1 Axes>"
      ]
     },
     "metadata": {
      "needs_background": "light"
     },
     "output_type": "display_data"
    }
   ],
   "source": [
    "N_samples = 20000\n",
    "batch_size = 256\n",
    "L_E = 20\n",
    "n = 1\n",
    "\n",
    "plt.figure(figsize=(6, 3))\n",
    "for i, rho in enumerate([0.5]):\n",
    "  plt.subplot(1, 2, i + 1)\n",
    "  x, y = sample_correlated_gaussian(\n",
    "      batch_size=N_samples, dim=L_E, n=n, rho=rho)\n",
    "  exact_mi = n * rho_to_mi(L_E, rho)\n",
    "\n",
    "  plt.scatter(x[:, 0], y[:, 0])\n",
    "  plt.title(r'$\\rho=%.2f$,  $I(X; Y)=%.1f$' % (rho, exact_mi))\n",
    "  plt.xlim(-3, 3)\n",
    "  plt.ylim(-3, 3)\n"
   ]
  },
  {
   "cell_type": "code",
   "execution_count": 5,
   "metadata": {},
   "outputs": [],
   "source": [
    "input_shapes = [(L_E, n), (L_E, n)]\n",
    "\n",
    "vbmi = VBMI(batch_size, input_shapes=input_shapes, layers=2, embed_dim=32, hidden_dim=64, activation='relu',\n",
    "            shuffle=100, learning_rate=5e-3, iterations=250, use_dropout=True, dropout_rate=0.3)\n"
   ]
  },
  {
   "cell_type": "code",
   "execution_count": 7,
   "metadata": {},
   "outputs": [
    {
     "data": {
      "application/vnd.jupyter.widget-view+json": {
       "model_id": "da0cdd86f2df4b849a66b0a4c2765975",
       "version_major": 2,
       "version_minor": 0
      },
      "text/plain": [
       "  0%|          | 0/19531 [00:00<?, ?it/s]"
      ]
     },
     "metadata": {},
     "output_type": "display_data"
    },
    {
     "data": {
      "text/plain": [
       "(-0.05, 3.16450279696959)"
      ]
     },
     "execution_count": 7,
     "metadata": {},
     "output_type": "execute_result"
    },
    {
     "data": {
      "image/png": "[encoded data removed]",
      "text/plain": [
       "<Figure size 432x288 with 1 Axes>"
      ]
     },
     "metadata": {
      "needs_background": "light"
     },
     "output_type": "display_data"
    }
   ],
   "source": [
    "mis = vbmi.InfoNCE(x, y)\n",
    "\n",
    "EMA_SPAN = 1000\n",
    "mis_smooth = pd.Series(mis).ewm(span=EMA_SPAN).mean()\n",
    "p1 = plt.plot(mis, alpha=0.3)[0]\n",
    "plt.plot(mis_smooth, c=p1.get_color())\n",
    "plt.axhline(y=exact_mi, c='k', linestyle='-')\n",
    "#plt.axhline(1 + np.log(batch_size) - 1,\n",
    "#            c='k', linestyle='--', label=r'1 + log(K/$\\alpha$)')\n",
    "plt.ylim([-0.05, 1.1 * exact_mi])\n"
   ]
  },
  {
   "cell_type": "code",
   "execution_count": null,
   "metadata": {},
   "outputs": [],
   "source": []
  }
 ],
 "metadata": {
  "interpreter": {
   "hash": "fff7285a7b9674a821da44b8413beb73bd11a21fb8e7ea8626d281a41e1eb1b4"
  },
  "kernelspec": {
   "display_name": "Python 3.9.7 ('base')",
   "language": "python",
   "name": "python3"
  },
  "language_info": {
   "codemirror_mode": {
    "name": "ipython",
    "version": 3
   },
   "file_extension": ".py",
   "mimetype": "text/x-python",
   "name": "python",
   "nbconvert_exporter": "python",
   "pygments_lexer": "ipython3",
   "version": "3.9.7"
  },
  "orig_nbformat": 4
 },
 "nbformat": 4,
 "nbformat_minor": 2
}
