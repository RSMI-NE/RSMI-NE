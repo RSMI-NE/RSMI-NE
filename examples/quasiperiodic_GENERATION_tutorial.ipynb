{
 "cells": [
  {
   "cell_type": "code",
   "execution_count": 1,
   "metadata": {},
   "outputs": [
    {
     "name": "stderr",
     "output_type": "stream",
     "text": [
      "/home/cluster/mkochj/GitHub/RSMI-NE/rsmine/coarsegrainer/build_dataset.py:13: TqdmExperimentalWarning: Using `tqdm.autonotebook.tqdm` in notebook mode. Use `tqdm.tqdm` instead to force console mode (e.g. in jupyter console)\n",
      "  from tqdm.autonotebook import tqdm\n"
     ]
    }
   ],
   "source": [
    "# Load generic python packages required\n",
    "\n",
    "import pandas as pd\n",
    "import pickle\n",
    "import matplotlib.pylab as plt\n",
    "import tensorflow as tf\n",
    "import numpy as np\n",
    "import networkx as nx\n",
    "import seaborn as sns\n",
    "import sys, os\n",
    "\n",
    "# Load various RSMI-NE functions. In principle one can simply do \"import rsmine\" but then one needs to call \n",
    "# functions with syntax like rsmine.cg_optimisiers.xxxxxxxxx() etc.\n",
    "\n",
    "sys.path.append(\"/home/cluster/mkochj/GitHub/RSMI-NE/rsmine/coarsegrainer\")\n",
    "import build_dataset as ds\n",
    "import cg_optimisers as cg_opt\n",
    "import plotter\n",
    "from cg_utils import *\n",
    "from analysis_utils import *"
   ]
  },
  {
   "cell_type": "code",
   "execution_count": 2,
   "metadata": {},
   "outputs": [],
   "source": [
    "############# Load the definition of the graph and construct the reference graph\n",
    "\n",
    "examples_dir = '/home/cluster/mkochj/GitHub/RSMI-NE/examples'\n",
    "\n",
    "edges=np.loadtxt(examples_dir+'/quasiperiodic_data/edgedata.dat')\n",
    "nodes=np.loadtxt(examples_dir+'/quasiperiodic_data/nodedata.dat',usecols=[0])\n",
    "nodepos=np.loadtxt(examples_dir+'/quasiperiodic_data/nodedata.dat',usecols=[1,2])\n",
    "order_8 = np.loadtxt(examples_dir+'/quasiperiodic_data/order_of_8vtx.dat')\n",
    "\n",
    "G = construct_reference_graph(edges,nodes)"
   ]
  },
  {
   "cell_type": "code",
   "execution_count": 3,
   "metadata": {},
   "outputs": [],
   "source": [
    "# Set the various parameters of the system required by the code\n",
    "# EV_params and data_params are generic data about samples of E,V\n",
    "\n",
    "\n",
    "case_no= 18 # env, buffer, ll only come into play if case is set to \"0\"\n",
    "V_index = 389 # 389 is the centeral 8-vertex order 4 # 196 and 253 are 8-vertices of order 2 # 211 is 8-vertex of order 0\n",
    "V_order = order_8[V_index][1]\n",
    "\n",
    "sample_no = 12121\n",
    "\n",
    "env_size = 8 # Not currently used by us\n",
    "buffer_size = 2 # Not currently used by us\n",
    "ll= 3 # Not currently used by us\n",
    "disc=1\n",
    "\n",
    "\n",
    "#We store these in a dictionary for experiment logging purposes only\n",
    "EV_params = {\n",
    "    'env_size' : env_size,\n",
    "    'buffer_size': buffer_size,\n",
    "    'block_size': ll, #assuming square block shape\n",
    "    'sample_no': sample_no,\n",
    "    'V_index': V_index,\n",
    "    'V_order': V_order,\n",
    "    'case_no':case_no\n",
    "}\n",
    "\n",
    "# These are needed by the generator\n",
    "data_params = {\n",
    "    'model': 'dimer_graph',\n",
    "    'lattice_type': 'networkx',\n",
    "    'L': 2048, # unused currently\n",
    "    'N_samples': 1, # 1 is default. Set to actual value after generating or loading data.\n",
    "    'dimension': 2,\n",
    "}"
   ]
  },
  {
   "cell_type": "code",
   "execution_count": 4,
   "metadata": {},
   "outputs": [
    {
     "name": "stdout",
     "output_type": "stream",
     "text": [
      "Data loaded\n"
     ]
    }
   ],
   "source": [
    "############ Load the raw MC configurations (can take *a long while* for large files) #################\n",
    "\n",
    "Xs = iter_loadtxt('/home/cluster/sobisw/data/large_size/econfig_startseed%i_nsmaples50000.dat'%(EV_params['sample_no']),dtype=np.int8)\n",
    "\n",
    "data_params['N_samples'] = len(Xs) # Set the correct number of samples loaded.\n",
    "print(\"Data loaded\")"
   ]
  },
  {
   "cell_type": "code",
   "execution_count": 5,
   "metadata": {},
   "outputs": [
    {
     "name": "stdout",
     "output_type": "stream",
     "text": [
      "{'model': 'dimer_graph', 'lattice_type': 'networkx', 'L': 2048, 'N_samples': 50000, 'dimension': 2}\n",
      "{'env_size': 8, 'buffer_size': 2, 'block_size': 3, 'sample_no': 12121, 'V_index': 389, 'V_order': 4.0, 'case_no': 18}\n"
     ]
    }
   ],
   "source": [
    "# Instantiate the dataset object, using the loaded samples and the definition of the graph\n",
    "# This will be used to generate the E,V splits.\n",
    "\n",
    "generator=ds.dataset(**data_params, configurations = Xs, G=G, verbose=True)\n",
    "#generator=dataset(**data_params, configurations = Xs, G=G, verbose=True)\n",
    "print(data_params)\n",
    "print(EV_params)"
   ]
  },
  {
   "cell_type": "code",
   "execution_count": 6,
   "metadata": {},
   "outputs": [
    {
     "data": {
      "text/plain": [
       "(50000, 51800)"
      ]
     },
     "execution_count": 6,
     "metadata": {},
     "output_type": "execute_result"
    }
   ],
   "source": [
    "# Print the shape of Xs (num_samples,num_variables_in_graph):\n",
    "Xs.shape"
   ]
  },
  {
   "cell_type": "code",
   "execution_count": 7,
   "metadata": {},
   "outputs": [
    {
     "data": {
      "text/plain": [
       "(12121, 389, 4.0)"
      ]
     },
     "execution_count": 7,
     "metadata": {},
     "output_type": "execute_result"
    }
   ],
   "source": [
    "# Double check what sample parameters are currently selected:\n",
    "EV_params['sample_no'],EV_params['V_index'],EV_params['V_order']"
   ]
  },
  {
   "cell_type": "code",
   "execution_count": 8,
   "metadata": {},
   "outputs": [],
   "source": [
    "# Load definitions of membranes, regions\n",
    "\n",
    "regions_data_dir = examples_dir + '/quasiperiodic_data/regions/'\n",
    "\n",
    "mem_edges0_ids = eids_from_edges(edges,np.loadtxt(regions_data_dir + 'reg_mem_edgelist_svtx%i_sord%i_mem0.dat'%(EV_params['V_index'],EV_params['V_order']),dtype=int))\n",
    "mem_edges1_ids = eids_from_edges(edges,np.loadtxt(regions_data_dir + 'reg_mem_edgelist_svtx%i_sord%i_mem1.dat'%(EV_params['V_index'],EV_params['V_order']),dtype=int))\n",
    "mem_edges2_ids = eids_from_edges(edges,np.loadtxt(regions_data_dir + 'reg_mem_edgelist_svtx%i_sord%i_mem2.dat'%(EV_params['V_index'],EV_params['V_order']),dtype=int))\n",
    "reg_edges0_ids = eids_from_edges(edges,np.loadtxt(regions_data_dir + 'reg_edgelist_svtx%i_sord%i_mem0.dat'%(EV_params['V_index'],EV_params['V_order']),dtype=int))\n",
    "reg_edges1_ids = eids_from_edges(edges,np.loadtxt(regions_data_dir + 'reg_edgelist_svtx%i_sord%i_mem1.dat'%(EV_params['V_index'],EV_params['V_order']),dtype=int))\n",
    "reg_edges2_ids = eids_from_edges(edges,np.loadtxt(regions_data_dir + '/reg_edgelist_svtx%i_sord%i_mem2.dat'%(EV_params['V_index'],EV_params['V_order']),dtype=int))\n",
    "\n",
    "ball5,_ = construct_VE_edgelists(G, V_index, L_B=1, ll=5, cap=8)\n",
    "ball8,_ = construct_VE_edgelists(G, V_index, L_B=1, ll=8, cap=11)\n",
    "ball12,_ = construct_VE_edgelists(G, V_index, L_B=1, ll=12, cap=15)\n",
    "ball16,_ = construct_VE_edgelists(G, V_index, L_B=1, ll=16, cap=19)\n",
    "ball32,_ = construct_VE_edgelists(G, V_index, L_B=1, ll=32, cap=35)\n",
    "ball48,_ = construct_VE_edgelists(G, V_index, L_B=1, ll=48, cap=50)\n",
    "ball24,_ = construct_VE_edgelists(G, V_index, L_B=1, ll=24, cap=26)\n",
    "\n",
    "# Construct lists of edges defnining the selected E,V if ***NOT*** using the cases, but rather topological balls.\n",
    "# If using the cases, it's much safer to use the \"multiple case\" path, even if the case list of lenght 1.\n",
    "\n",
    "#GV_edges,GE_edges = construct_VE_edgelists(G, V_index, L_B=buffer_size, ll=ll, cap=ll+buffer_size+env_size)"
   ]
  },
  {
   "cell_type": "code",
   "execution_count": 9,
   "metadata": {},
   "outputs": [],
   "source": [
    "# Define the E,V areas via \"cases\" instead (more appropriate for non-spherical regions, like empires etc.)\n",
    "\n",
    "#### Be super careful!!! IF the variables  reg_.... is initialized from some previous vertex,\n",
    "#### there won't be an error, ven of lower order vertex doesn't have this membrane. \n",
    "\n",
    "\n",
    "cGV_edges = {}\n",
    "cGE_edges = {}\n",
    "\n",
    "    # Case #1\n",
    "#auxGV_edges = sorted(set(reg_edges0_ids))\n",
    "#auxGE_edges = sorted(set(reg_edges1_ids) -set(reg_edges0_ids) - set(mem_edges0_ids))#  #sorted(set(reg_edges2_ids)-(set(reg_edges0_ids) | set(mem_edges0_ids)))\n",
    "#cGV_edges[1] = auxGV_edges\n",
    "#cGE_edges[1] = auxGE_edges\n",
    "\n",
    "    # Case #2\n",
    "#auxGV_edges = sorted(set(reg_edges0_ids))\n",
    "#auxGE_edges = sorted(set(reg_edges1_ids) | set(mem_edges1_ids) -set(reg_edges0_ids) - set(mem_edges0_ids))#  #sorted(set(reg_edges2_ids)-(set(reg_edges0_ids) | set(mem_edges0_ids)))\n",
    "#cGV_edges[2] = auxGV_edges\n",
    "#cGE_edges[2] = auxGE_edges\n",
    "\n",
    "    # Case #3\n",
    "auxGV_edges = sorted(set(reg_edges0_ids))\n",
    "auxGE_edges = sorted(set(reg_edges2_ids) -set(reg_edges0_ids) - set(mem_edges0_ids))#  #sorted(set(reg_edges2_ids)-(set(reg_edges0_ids) | set(mem_edges0_ids)))\n",
    "cGV_edges[3] = auxGV_edges\n",
    "cGE_edges[3] = auxGE_edges\n",
    "\n",
    "    # Case #4\n",
    "#auxGV_edges = sorted(set(reg_edges0_ids))\n",
    "#auxGE_edges = sorted(set(reg_edges2_ids) -set(reg_edges1_ids))#  #sorted(set(reg_edges2_ids)-(set(reg_edges0_ids) | set(mem_edges0_ids)))\n",
    "#cGV_edges[4] = auxGV_edges\n",
    "#cGE_edges[4] = auxGE_edges\n",
    "\n",
    "    # Case #5\n",
    "#auxGV_edges = sorted(set(reg_edges0_ids) | set(mem_edges0_ids))\n",
    "#auxGE_edges = sorted(set(reg_edges2_ids) -set(reg_edges1_ids))#  #sorted(set(reg_edges2_ids)-(set(reg_edges0_ids) | set(mem_edges0_ids)))\n",
    "#cGV_edges[5] = auxGV_edges\n",
    "#cGE_edges[5] = auxGE_edges\n",
    "\n",
    "    # Case #6\n",
    "#auxGV_edges = sorted(set(reg_edges0_ids) | set(mem_edges0_ids))\n",
    "#auxGE_edges = sorted(set(reg_edges2_ids) -set(reg_edges1_ids) - set(mem_edges1_ids))#  #sorted(set(reg_edges2_ids)-(set(reg_edges0_ids) | set(mem_edges0_ids)))\n",
    "#cGV_edges[6] = auxGV_edges\n",
    "#cGE_edges[6] = auxGE_edges\n",
    "\n",
    "    # Case #7\n",
    "#auxGV_edges = sorted(set(reg_edges0_ids) | set(mem_edges0_ids))\n",
    "#auxGE_edges = sorted(set(ball32) -set(reg_edges2_ids))#  #sorted(set(reg_edges2_ids)-(set(reg_edges0_ids) | set(mem_edges0_ids)))\n",
    "#cGV_edges[7] = auxGV_edges\n",
    "#cGE_edges[7] = auxGE_edges\n",
    "\n",
    "    # Case #8\n",
    "#auxGV_edges = sorted(set(reg_edges0_ids) | set(mem_edges0_ids))\n",
    "#auxGE_edges = sorted(set(ball32) -set(reg_edges2_ids) - set(mem_edges2_ids))#  #sorted(set(reg_edges2_ids)-(set(reg_edges0_ids) | set(mem_edges0_ids)))\n",
    "#cGV_edges[8] = auxGV_edges\n",
    "#cGE_edges[8] = auxGE_edges\n",
    "\n",
    "    # Case #9\n",
    "#auxGV_edges = sorted(set(reg_edges1_ids))\n",
    "#auxGE_edges = sorted(set(reg_edges2_ids) -set(reg_edges1_ids) - set(mem_edges1_ids))#  #sorted(set(reg_edges2_ids)-(set(reg_edges0_ids) | set(mem_edges0_ids)))\n",
    "#cGV_edges[9] = auxGV_edges\n",
    "#cGE_edges[9] = auxGE_edges\n",
    "\n",
    "    # Case #10\n",
    "#auxGV_edges = sorted(set(reg_edges1_ids))\n",
    "#auxGE_edges = sorted(set(reg_edges2_ids) | set(mem_edges2_ids) -set(reg_edges1_ids) - set(mem_edges1_ids))#  #sorted(set(reg_edges2_ids)-(set(reg_edges0_ids) | set(mem_edges0_ids)))\n",
    "#cGV_edges[10] = auxGV_edges\n",
    "#cGE_edges[10] = auxGE_edges\n",
    "\n",
    "    # Case #11\n",
    "#auxGV_edges = sorted(set(reg_edges1_ids))\n",
    "#auxGE_edges = sorted(set(ball32) -set(reg_edges1_ids) - set(mem_edges1_ids))#  #sorted(set(reg_edges2_ids)-(set(reg_edges0_ids) | set(mem_edges0_ids)))\n",
    "#cGV_edges[11] = auxGV_edges\n",
    "#cGE_edges[11] = auxGE_edges\n",
    "\n",
    "    # Case #12\n",
    "#auxGV_edges = sorted(set(reg_edges1_ids))\n",
    "#auxGE_edges = sorted(set(ball32) -set(reg_edges2_ids) - set(mem_edges2_ids))#  #sorted(set(reg_edges2_ids)-(set(reg_edges0_ids) | set(mem_edges0_ids)))\n",
    "#cGV_edges[12] = auxGV_edges\n",
    "#cGE_edges[12] = auxGE_edges\n",
    "\n",
    "    # Case #13\n",
    "#auxGV_edges = sorted(set(reg_edges1_ids))\n",
    "#auxGE_edges = sorted(set(ball32) -set(reg_edges2_ids))#  #sorted(set(reg_edges2_ids)-(set(reg_edges0_ids) | set(mem_edges0_ids)))\n",
    "#cGV_edges[13] = auxGV_edges\n",
    "#cGE_edges[13] = auxGE_edges\n",
    "\n",
    "    # Case #14\n",
    "#auxGV_edges = sorted(set(reg_edges1_ids) | set(mem_edges1_ids))\n",
    "#auxGE_edges = sorted(set(ball32) -set(reg_edges2_ids))#  #sorted(set(reg_edges2_ids)-(set(reg_edges0_ids) | set(mem_edges0_ids)))\n",
    "#cGV_edges[14] = auxGV_edges\n",
    "#cGE_edges[14] = auxGE_edges\n",
    "\n",
    "    # Case #15\n",
    "#auxGV_edges = sorted(set(reg_edges1_ids) | set(mem_edges1_ids))\n",
    "#auxGE_edges = sorted(set(ball32) -set(reg_edges2_ids) -set(mem_edges2_ids))#  #sorted(set(reg_edges2_ids)-(set(reg_edges0_ids) | set(mem_edges0_ids)))\n",
    "#cGV_edges[15] = auxGV_edges\n",
    "#cGE_edges[15] = auxGE_edges\n",
    "\n",
    "    # Case #16\n",
    "#auxGV_edges = sorted(set(reg_edges2_ids))\n",
    "#auxGE_edges = sorted(set(ball32) -set(reg_edges2_ids) -set(mem_edges2_ids))#  #sorted(set(reg_edges2_ids)-(set(reg_edges0_ids) | set(mem_edges0_ids)))\n",
    "#cGV_edges[16] = auxGV_edges\n",
    "#cGE_edges[16] = auxGE_edges\n",
    "\n",
    "    # Case #17\n",
    "#auxGV_edges = sorted(set(reg_edges2_ids))\n",
    "#auxGE_edges = sorted(set(ball48) -set(reg_edges2_ids) -set(mem_edges2_ids))#  #sorted(set(reg_edges2_ids)-(set(reg_edges0_ids) | set(mem_edges0_ids)))\n",
    "#cGV_edges[17] = auxGV_edges\n",
    "#cGE_edges[17] = auxGE_edges\n",
    "\n",
    "    # Case #18 was is ball 20 or ball 24????\n",
    "#auxGV_edges = sorted(set(reg_edges2_ids))\n",
    "#auxGE_edges = sorted(set(ball48) -set(ball24))#  #sorted(set(reg_edges2_ids)-(set(reg_edges0_ids) | set(mem_edges0_ids)))\n",
    "#cGV_edges[18] = auxGV_edges\n",
    "#cGE_edges[18] = auxGE_edges\n",
    "\n",
    "    # Case #19\n",
    "#auxGV_edges = sorted(set(reg_edges0_ids))\n",
    "#auxGE_edges = sorted(set(ball16) -set(reg_edges1_ids))#  #sorted(set(reg_edges2_ids)-(set(reg_edges0_ids) | set(mem_edges0_ids)))\n",
    "#cGV_edges[19] = auxGV_edges\n",
    "#cGE_edges[19] = auxGE_edges\n",
    "\n",
    "    # Case #20\n",
    "#auxGV_edges = sorted(set(reg_edges0_ids))\n",
    "#auxGE_edges = sorted(set(ball16) -set(reg_edges1_ids) -set(mem_edges1_ids))#  #sorted(set(reg_edges2_ids)-(set(reg_edges0_ids) | set(mem_edges0_ids)))\n",
    "#cGV_edges[20] = auxGV_edges\n",
    "#cGE_edges[20] = auxGE_edges\n",
    "\n",
    "    # Case #21\n",
    "#auxGV_edges = sorted(set(reg_edges0_ids) | set(mem_edges0_ids))\n",
    "#auxGE_edges = sorted(set(ball16) -set(reg_edges1_ids))#  #sorted(set(reg_edges2_ids)-(set(reg_edges0_ids) | set(mem_edges0_ids)))\n",
    "#cGV_edges[21] = auxGV_edges\n",
    "#cGE_edges[21] = auxGE_edges\n",
    "\n",
    "    # Case #22\n",
    "#auxGV_edges = sorted(set(reg_edges0_ids) | set(mem_edges0_ids))\n",
    "#auxGE_edges = sorted(set(ball16) -set(reg_edges1_ids) -set(mem_edges1_ids))#  #sorted(set(reg_edges2_ids)-(set(reg_edges0_ids) | set(mem_edges0_ids)))\n",
    "#cGV_edges[22] = auxGV_edges\n",
    "#cGE_edges[22] = auxGE_edges\n",
    "\n",
    "    # Case #23\n",
    "#auxGV_edges = sorted(set(reg_edges1_ids))\n",
    "#auxGE_edges = sorted(set(ball16) -set(reg_edges1_ids) -set(mem_edges1_ids))#  #sorted(set(reg_edges2_ids)-(set(reg_edges0_ids) | set(mem_edges0_ids)))\n",
    "#cGV_edges[23] = auxGV_edges\n",
    "#cGE_edges[23] = auxGE_edges\n",
    "\n",
    "    # Case #24\n",
    "#auxGV_edges = sorted(set(reg_edges1_ids))\n",
    "#auxGE_edges = sorted(set(ball24) -set(ball16))#  #sorted(set(reg_edges2_ids)-(set(reg_edges0_ids) | set(mem_edges0_ids)))\n",
    "#cGV_edges[24] = auxGV_edges\n",
    "#cGE_edges[24] = auxGE_edges\n",
    "\n",
    "    # Case #25\n",
    "#auxGV_edges = sorted(set(reg_edges1_ids) | set(mem_edges1_ids))\n",
    "#auxGE_edges = sorted(set(ball24) -set(ball16))#  #sorted(set(reg_edges2_ids)-(set(reg_edges0_ids) | set(mem_edges0_ids)))\n",
    "#cGV_edges[25] = auxGV_edges\n",
    "#cGE_edges[25] = auxGE_edges\n",
    "\n",
    "    # Case #26\n",
    "#auxGV_edges = sorted(set(reg_edges1_ids) | set(mem_edges1_ids))\n",
    "#auxGE_edges = sorted(set(ball16) -set(ball12))#  #sorted(set(reg_edges2_ids)-(set(reg_edges0_ids) | set(mem_edges0_ids)))\n",
    "#cGV_edges[26] = auxGV_edges\n",
    "#cGE_edges[26] = auxGE_edges\n",
    "\n",
    "    # Case #27\n",
    "#auxGV_edges = sorted(set(reg_edges2_ids))\n",
    "#auxGE_edges = sorted(set(ball32) -set(ball24))#  #sorted(set(reg_edges2_ids)-(set(reg_edges0_ids) | set(mem_edges0_ids)))\n",
    "#cGV_edges[27] = auxGV_edges\n",
    "#cGE_edges[27] = auxGE_edges\n",
    "\n",
    "\n",
    "    # Case #28\n",
    "#auxGV_edges = sorted(set(reg_edges0_ids))\n",
    "#auxGE_edges = sorted(set(ball8) - set(reg_edges0_ids) - set(mem_edges0_ids))#  #sorted(set(reg_edges2_ids)-(set(reg_edges0_ids) | set(mem_edges0_ids)))\n",
    "#cGV_edges[28] = auxGV_edges\n",
    "#cGE_edges[28] = auxGE_edges\n",
    "\n",
    "\n",
    "    # Case #29\n",
    "#auxGV_edges = sorted(set(reg_edges0_ids))\n",
    "#auxGE_edges = sorted(set(ball12) - set(reg_edges0_ids) - set(mem_edges0_ids))#  #sorted(set(reg_edges2_ids)-(set(reg_edges0_ids) | set(mem_edges0_ids)))\n",
    "#cGV_edges[29] = auxGV_edges\n",
    "#cGE_edges[29] = auxGE_edges\n",
    "\n",
    "\n",
    "     #Case #30\n",
    "#auxGV_edges = sorted(set(reg_edges0_ids))\n",
    "#auxGE_edges = sorted(set(ball12) - set(ball5))#  #sorted(set(reg_edges2_ids)-(set(reg_edges0_ids) | set(mem_edges0_ids)))\n",
    "#cGV_edges[30] = auxGV_edges\n",
    "#cGE_edges[30] = auxGE_edges\n",
    "\n",
    "    # Case #31\n",
    "#auxGV_edges = sorted(set(reg_edges0_ids))\n",
    "#auxGE_edges = sorted(set(ball16) - set(ball5))#  #sorted(set(reg_edges2_ids)-(set(reg_edges0_ids) | set(mem_edges0_ids)))\n",
    "#cGV_edges[31] = auxGV_edges\n",
    "#cGE_edges[31] = auxGE_edges\n",
    "\n",
    "    # Case #32\n",
    "#auxGV_edges = sorted(set(reg_edges0_ids) | set(mem_edges0_ids))\n",
    "#auxGE_edges = sorted(set(ball16) - set(ball5))#  #sorted(set(reg_edges2_ids)-(set(reg_edges0_ids) | set(mem_edges0_ids)))\n",
    "#cGV_edges[32] = auxGV_edges\n",
    "#cGE_edges[32] = auxGE_edges"
   ]
  },
  {
   "cell_type": "code",
   "execution_count": 10,
   "metadata": {},
   "outputs": [
    {
     "data": {
      "text/plain": [
       "[3]"
      ]
     },
     "execution_count": 10,
     "metadata": {},
     "output_type": "execute_result"
    }
   ],
   "source": [
    "# Double check which cases you selected:\n",
    "list(cGV_edges.keys())"
   ]
  },
  {
   "cell_type": "code",
   "execution_count": 15,
   "metadata": {},
   "outputs": [],
   "source": [
    "#####################################################\n",
    "############ Generate E,V datasets ##################\n",
    "#####################################################"
   ]
  },
  {
   "cell_type": "code",
   "execution_count": 36,
   "metadata": {},
   "outputs": [
    {
     "name": "stdout",
     "output_type": "stream",
     "text": [
      "Preparing the RSMI dataset...\n",
      "RSMI dataset prepared.\n",
      "137.33  MB\n"
     ]
    }
   ],
   "source": [
    "############ Generate E,V datasets ***FOR A SINGLE CASE/custom definition of E,V*** \n",
    "\n",
    "Vs, Es = generator.rsmi_data_graph(GV_edges,GE_edges)\n",
    "\n",
    "print(round((sys.getsizeof(np.array(Es)) + sys.getsizeof(np.array(Vs)))/ 1024 / 1024, 2), \" MB\")\n",
    "#np.save(r\"/home/cluster/mkochj/scratch/sobisw/data/EandV/Es_%i_vi%i_e%ib%ill%i\" % (EV_params['sample_no'],EV_params['V_index'],EV_params['env_size'],EV_params['buffer_size'],EV_params['block_size']),Es)\n",
    "#np.save(r\"/home/cluster/mkochj/scratch/sobisw/data/EandV/Vs_%i_vi%i_e%ib%ill%i\" % (EV_params['sample_no'],EV_params['V_index'],EV_params['env_size'],EV_params['buffer_size'],EV_params['block_size']),Vs)\n",
    "np.save(r\"/home/cluster/sobisw/rsmine_tutorial/Es_%i_vi%i_c%i\" % (EV_params['sample_no'],EV_params['V_index'],case_no),Es)\n",
    "np.save(r\"/home/cluster/sobisw/rsmine_tutorial/Vs_%i_vi%i_c%i\" % (EV_params['sample_no'],EV_params['V_index'],case_no),Vs)\n",
    "\n"
   ]
  },
  {
   "cell_type": "code",
   "execution_count": 11,
   "metadata": {},
   "outputs": [
    {
     "name": "stdout",
     "output_type": "stream",
     "text": [
      "Preparing the RSMI dataset...\n",
      "RSMI dataset prepared.\n",
      "Case_no:  3 , Size:  163.27  MB\n"
     ]
    }
   ],
   "source": [
    "############ Generate E,V datasets ***FOR MULTIPLE CASES*** \n",
    "\n",
    "case_list = list(cGV_edges.keys())\n",
    "for case_no in case_list:\n",
    "    auxVs, auxEs = generator.rsmi_data_graph(cGV_edges[case_no],cGE_edges[case_no])\n",
    "    print(\"Case_no: \",case_no,\", Size: \",round((sys.getsizeof(np.array(auxEs)) + sys.getsizeof(np.array(auxVs)))/ 1024 / 1024, 2), \" MB\")\n",
    "    np.save(r\"/home/cluster/sobisw/rsmine_tutorial/Es_%i_vi%i_c%i\" % (EV_params['sample_no'],EV_params['V_index'],case_no),auxEs)\n",
    "    np.save(r\"/home/cluster/sobisw/rsmine_tutorial/Vs_%i_vi%i_c%i\" % (EV_params['sample_no'],EV_params['V_index'],case_no),auxVs)"
   ]
  },
  {
   "cell_type": "code",
   "execution_count": null,
   "metadata": {},
   "outputs": [],
   "source": []
  }
 ],
 "metadata": {
  "kernelspec": {
   "display_name": "tf241_with_tfp",
   "language": "python",
   "name": "tf241_with_tfp"
  },
  "language_info": {
   "codemirror_mode": {
    "name": "ipython",
    "version": 3
   },
   "file_extension": ".py",
   "mimetype": "text/x-python",
   "name": "python",
   "nbconvert_exporter": "python",
   "pygments_lexer": "ipython3",
   "version": "3.9.5"
  }
 },
 "nbformat": 4,
 "nbformat_minor": 4
}
