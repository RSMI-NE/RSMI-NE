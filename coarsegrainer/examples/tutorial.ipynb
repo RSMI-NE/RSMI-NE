{
 "cells": [
  {
   "cell_type": "code",
   "execution_count": 1,
   "metadata": {},
   "outputs": [
    {
     "name": "stderr",
     "output_type": "stream",
     "text": [
      "/Users/dorukefegokmen/Documents/Research/RSMI-NE/coarsegrainer/examples/../src/build_dataset.py:12: TqdmExperimentalWarning: Using `tqdm.autonotebook.tqdm` in notebook mode. Use `tqdm.tqdm` instead to force console mode (e.g. in jupyter console)\n",
      "  from tqdm.autonotebook import tqdm\n"
     ]
    }
   ],
   "source": [
    "import os\n",
    "import glob\n",
    "import sys\n",
    "import requests\n",
    "import copy\n",
    "import json\n",
    "import pickle\n",
    "import pandas as pd\n",
    "import matplotlib.pyplot as plt\n",
    "import numpy as np\n",
    "import tensorflow as tf\n",
    "\n",
    "sys.path.append(os.path.join(os.pardir,\"src\"))\n",
    "import build_dataset as ds\n",
    "import cg_optimisers as cg_opt\n",
    "import plotter"
   ]
  },
  {
   "cell_type": "markdown",
   "metadata": {},
   "source": [
    "# RSMI optimisation for the dimer model"
   ]
  },
  {
   "cell_type": "markdown",
   "metadata": {},
   "source": [
    "## Download sample dataset"
   ]
  },
  {
   "cell_type": "code",
   "execution_count": 2,
   "metadata": {},
   "outputs": [
    {
     "name": "stdout",
     "output_type": "stream",
     "text": [
      "Existing dataset found.\n"
     ]
    }
   ],
   "source": [
    "url = 'https://polybox.ethz.ch/index.php/s/bUp9a5qZWuLGXMb/download'\n",
    "filename = 'configs_intdimer2d_square_L64_T15.000.npy'\n",
    "data_dir = os.path.join(os.pardir, 'data')\n",
    "\n",
    "if os.path.isfile(os.path.join(data_dir, filename)):\n",
    "    print('Existing dataset found.')\n",
    "else:\n",
    "    print('No existing dataset found.')\n",
    "    if not os.path.isdir(data_dir):\n",
    "        os.mkdir(data_dir)\n",
    "        print('Created the data directory.')\n",
    "    print('Downloading data...')\n",
    "    r = requests.get(url, allow_redirects=True)\n",
    "    open(os.path.join(data_dir, filename), 'wb').write(r.content)\n",
    "    print('Data downloaded into /coarsegrainer/data/.')"
   ]
  },
  {
   "cell_type": "markdown",
   "metadata": {},
   "source": [
    "## Enter system parameters"
   ]
  },
  {
   "cell_type": "code",
   "execution_count": 3,
   "metadata": {},
   "outputs": [
    {
     "name": "stdout",
     "output_type": "stream",
     "text": [
      "Existing data found.\n",
      " Loading the data...\n",
      "Loading complete.\n",
      "{'model': 'intdimer2d', 'lattice_type': 'square', 'L': 64, 'T': 15.0, 'N_samples': 28800, 'dimension': 2, 'srn_correlation': True}\n"
     ]
    }
   ],
   "source": [
    "data_params = {\n",
    "    'model': 'intdimer2d',\n",
    "    'lattice_type': 'square',\n",
    "    'L': 64,\n",
    "    'T': 15.000,\n",
    "    'N_samples': 28800, \n",
    "    'dimension': 2,\n",
    "    'srn_correlation': True,\n",
    "}\n",
    "\n",
    "generator=ds.dataset(**data_params)\n",
    "\n",
    "print(data_params)"
   ]
  },
  {
   "cell_type": "markdown",
   "metadata": {},
   "source": [
    "## Enter optimisation parameters"
   ]
  },
  {
   "cell_type": "code",
   "execution_count": 4,
   "metadata": {},
   "outputs": [
    {
     "name": "stdout",
     "output_type": "stream",
     "text": [
      "Preparing the RSMI dataset...\n",
      "RSMI dataset prepared.\n"
     ]
    }
   ],
   "source": [
    "CG_params = {'init_temperature': 0.75,\n",
    "    'min_temperature': 0.1,\n",
    "    'relaxation_rate': 0.0001, # was 0.0005 for above BKT 0.002 for below BKT\n",
    "    'Nq': None,\n",
    "    'conv_activation': None,\n",
    "    'num_hiddens': 2,\n",
    "    'h_embed': True,\n",
    "    'use_probs': False,\n",
    "    'use_logits': True\n",
    "}\n",
    "ll = CG_params['ll'] = (8,8)\n",
    "\n",
    "critic_params = {\n",
    "    'layers': 2, \n",
    "    'embed_dim': 8, \n",
    "    'hidden_dim': 32, \n",
    "    'activation': 'relu',\n",
    "}\n",
    "\n",
    "opt_params = {\n",
    "    \"batch_size\": 500, # was 800 for larger buffers\n",
    "    \"iterations\": 250, # was 400 for above BKT, 25 for below BKT\n",
    "    \"shuffle\": 100000,\n",
    "    \"learning_rate\": 9e-3 # was 4e-3\n",
    "}\n",
    "\n",
    "index = (10, 10) # index of the visible patch to be coarse-grained\n",
    "buffer_size = 4\n",
    "env_size = 4\n",
    "\n",
    "V, E = generator.rsmi_data(index, ll, buffer_size=buffer_size, cap=ll[0]+2*(buffer_size+env_size))"
   ]
  },
  {
   "cell_type": "markdown",
   "metadata": {},
   "source": [
    "## Perform the optimisation and plot results"
   ]
  },
  {
   "cell_type": "code",
   "execution_count": 5,
   "metadata": {},
   "outputs": [
    {
     "data": {
      "application/vnd.jupyter.widget-view+json": {
       "model_id": "ce680ae5ef4d41939aaf7748a99bb0d2",
       "version_major": 2,
       "version_minor": 0
      },
      "text/plain": [
       "  0%|          | 0/14400 [00:00<?, ?it/s]"
      ]
     },
     "metadata": {},
     "output_type": "display_data"
    },
    {
     "name": "stdout",
     "output_type": "stream",
     "text": [
      "WARNING:tensorflow:AutoGraph could not transform <function train_RSMI_optimiser.<locals>.train_step at 0x15b6bb1f0> and will run it as-is.\n",
      "Please report this to the TensorFlow team. When filing the bug, set the verbosity to 10 (on Linux, `export AUTOGRAPH_VERBOSITY=10`) and attach the full output.\n",
      "Cause: module 'gast' has no attribute 'Index'\n",
      "To silence this warning, decorate the function with @tf.autograph.experimental.do_not_convert\n",
      "WARNING: AutoGraph could not transform <function train_RSMI_optimiser.<locals>.train_step at 0x15b6bb1f0> and will run it as-is.\n",
      "Please report this to the TensorFlow team. When filing the bug, set the verbosity to 10 (on Linux, `export AUTOGRAPH_VERBOSITY=10`) and attach the full output.\n",
      "Cause: module 'gast' has no attribute 'Index'\n",
      "To silence this warning, decorate the function with @tf.autograph.experimental.do_not_convert\n",
      "Training complete.\n"
     ]
    }
   ],
   "source": [
    "estimates, _, filters, _ = cg_opt.train_RSMI_optimiser(CG_params, critic_params, opt_params, data_params, \n",
    "                                                       E=E, V=V)"
   ]
  },
  {
   "cell_type": "code",
   "execution_count": 7,
   "metadata": {},
   "outputs": [
    {
     "name": "stdout",
     "output_type": "stream",
     "text": [
      "RSMI estimate is  0.30510177951516776\n"
     ]
    },
    {
     "name": "stderr",
     "output_type": "stream",
     "text": [
      "/Users/dorukefegokmen/Documents/Research/RSMI-NE/coarsegrainer/src/plotter.py:184: MatplotlibDeprecationWarning: Support for setting the 'text.latex.preamble' or 'pgf.preamble' rcParam to a list of strings is deprecated since 3.3 and will be removed two minor releases later; set it to a single string instead.\n",
      "  plt.rcParams['text.latex.preamble'] = [\n"
     ]
    },
    {
     "name": "stdout",
     "output_type": "stream",
     "text": [
      "{'init_temperature': 0.75, 'min_temperature': 0.1, 'relaxation_rate': 0.0001, 'Nq': None, 'conv_activation': None, 'num_hiddens': 2, 'h_embed': True, 'use_probs': False, 'use_logits': True, 'll': (8, 8)}\n",
      "{'layers': 2, 'embed_dim': 8, 'hidden_dim': 32, 'activation': 'relu'}\n",
      "{'batch_size': 500, 'iterations': 250, 'shuffle': 100000, 'learning_rate': 0.009}\n"
     ]
    },
    {
     "data": {
      "image/png": "[encoded data removed]",
      "text/plain": [
       "<Figure size 320x240 with 12 Axes>"
      ]
     },
     "metadata": {},
     "output_type": "display_data"
    }
   ],
   "source": [
    "print('RSMI estimate is ', cg_opt.RSMI_estimate(estimates, ema_span=100))\n",
    "\n",
    "plotter.plot_fancy_rsmimax(estimates, filters, opt_params, CG_params, \n",
    "                            generator, N_samples=data_params['N_samples'],\n",
    "                            mi_bound='InfoNCE', filter_lim=1.3, EMA_span=80, save=False, \n",
    "                            series_skip=data_params['N_samples']//(opt_params['batch_size']*4)*opt_params['iterations'], \n",
    "                            interpolation='hanning', cmap='RdBu')\n",
    "\n",
    "print(CG_params)\n",
    "print(critic_params)\n",
    "print(opt_params)"
   ]
  },
  {
   "cell_type": "code",
   "execution_count": null,
   "metadata": {},
   "outputs": [],
   "source": []
  }
 ],
 "metadata": {
  "kernelspec": {
   "display_name": "tensorflow_macos",
   "language": "python",
   "name": "tensorflow_macos"
  },
  "language_info": {
   "codemirror_mode": {
    "name": "ipython",
    "version": 3
   },
   "file_extension": ".py",
   "mimetype": "text/x-python",
   "name": "python",
   "nbconvert_exporter": "python",
   "pygments_lexer": "ipython3",
   "version": "3.8.10"
  }
 },
 "nbformat": 4,
 "nbformat_minor": 4
}
